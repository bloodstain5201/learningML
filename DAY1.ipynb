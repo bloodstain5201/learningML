{
  "nbformat": 4,
  "nbformat_minor": 0,
  "metadata": {
    "colab": {
      "name": "Untitled0.ipynb",
      "provenance": [],
      "authorship_tag": "ABX9TyO+VyLSu/gJMJdXzI7cdMY3",
      "include_colab_link": true
    },
    "kernelspec": {
      "name": "python3",
      "display_name": "Python 3"
    }
  },
  "cells": [
    {
      "cell_type": "markdown",
      "metadata": {
        "id": "view-in-github",
        "colab_type": "text"
      },
      "source": [
        "<a href=\"https://colab.research.google.com/github/bloodstain5201/learningML/blob/main/DAY1.ipynb\" target=\"_parent\"><img src=\"https://colab.research.google.com/assets/colab-badge.svg\" alt=\"Open In Colab\"/></a>"
      ]
    },
    {
      "cell_type": "code",
      "metadata": {
        "id": "xRJY0QzijHd_",
        "outputId": "b51e1ce5-038c-4aa9-bd80-656986775ced",
        "colab": {
          "base_uri": "https://localhost:8080/",
          "height": 84
        }
      },
      "source": [
        "import matplotlib.pyplot as plt\n",
        "import numpy as np\n",
        "from sklearn import datasets, linear_model\n",
        "from sklearn.metrics import mean_squared_error\n",
        "\n",
        "diabetes = datasets.load_diabetes()\n",
        "\n",
        "#['data', 'target', 'DESCR', 'feature_names', 'data_filename', 'target_filename']\n",
        "\n",
        "diabetes_X = diabetes.data\n",
        "\n",
        "diabetes_X_train= diabetes_X[:-30]\n",
        "diabetes_X_test = diabetes_X[-30:]\n",
        "\n",
        "diabetes_Y_train= diabetes.target[:-30]\n",
        "diabetes_Y_test = diabetes.target[-30:]\n",
        "\n",
        "model = linear_model.LinearRegression()\n",
        "\n",
        "model.fit(diabetes_X_train, diabetes_Y_train)\n",
        "\n",
        "model_Y_predict = model.predict(diabetes_X_test) \n",
        "\n",
        "print(\"Mean squared error is: \", mean_squared_error(diabetes_Y_test, model_Y_predict))\n",
        "\n",
        "print(\"Weights: \", model.coef_)\n",
        "print(\"Intercept: \", model.intercept_)\n",
        "\n",
        "# plt.scatter(diabetes_X_test, diabetes_Y_test)\n",
        "# plt.plot(diabetes_X_test, model_Y_predict)\n",
        "# plt.show()\n",
        "# Mean squared error is:  3035.0601152912686\n",
        "# Weights:  [941.43097333]\n",
        "# Intercept:  153.39713623331698\n"
      ],
      "execution_count": 28,
      "outputs": [
        {
          "output_type": "stream",
          "text": [
            "Mean squared error is:  1826.5364191345423\n",
            "Weights:  [  -1.16924976 -237.18461486  518.30606657  309.04865826 -763.14121622\n",
            "  458.90999325   80.62441437  174.32183366  721.49712065   79.19307944]\n",
            "Intercept:  153.05827988224112\n"
          ],
          "name": "stdout"
        }
      ]
    }
  ]
}